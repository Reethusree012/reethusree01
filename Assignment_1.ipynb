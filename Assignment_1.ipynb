{
  "nbformat": 4,
  "nbformat_minor": 0,
  "metadata": {
    "colab": {
      "name": "Assignment 1",
      "provenance": [],
      "authorship_tag": "ABX9TyMNGhqBwGr4q4EiY/mm8UFp",
      "include_colab_link": true
    },
    "kernelspec": {
      "name": "python3",
      "display_name": "Python 3"
    }
  },
  "cells": [
    {
      "cell_type": "markdown",
      "metadata": {
        "id": "view-in-github",
        "colab_type": "text"
      },
      "source": [
        "<a href=\"https://colab.research.google.com/github/Reethusree012/reethusree01/blob/master/Assignment_1.ipynb\" target=\"_parent\"><img src=\"https://colab.research.google.com/assets/colab-badge.svg\" alt=\"Open In Colab\"/></a>"
      ]
    },
    {
      "cell_type": "code",
      "metadata": {
        "id": "MXnmr6fXpR4r",
        "colab_type": "code",
        "colab": {}
      },
      "source": [
        ""
      ],
      "execution_count": null,
      "outputs": []
    },
    {
      "cell_type": "markdown",
      "metadata": {
        "id": "_ID_cmYjp-OX",
        "colab_type": "text"
      },
      "source": [
        "1.write a python program to design simple calculator for the operators."
      ]
    },
    {
      "cell_type": "code",
      "metadata": {
        "id": "LZCObEA-q3Kc",
        "colab_type": "code",
        "colab": {}
      },
      "source": [
        ""
      ],
      "execution_count": null,
      "outputs": []
    },
    {
      "cell_type": "markdown",
      "metadata": {
        "id": "--mgV49MrW04",
        "colab_type": "text"
      },
      "source": [
        "+ - * // % ** \\"
      ]
    },
    {
      "cell_type": "code",
      "metadata": {
        "id": "5rkwEi0Nr1Cz",
        "colab_type": "code",
        "colab": {
          "base_uri": "https://localhost:8080/",
          "height": 34
        },
        "outputId": "a7c2b8d3-5de2-4b23-8229-66bca996eda8"
      },
      "source": [
        "a=5\n",
        "b=2\n",
        "print(a+b)"
      ],
      "execution_count": null,
      "outputs": [
        {
          "output_type": "stream",
          "text": [
            "7\n"
          ],
          "name": "stdout"
        }
      ]
    },
    {
      "cell_type": "code",
      "metadata": {
        "id": "mc3QwnhsspNl",
        "colab_type": "code",
        "colab": {
          "base_uri": "https://localhost:8080/",
          "height": 34
        },
        "outputId": "a82a3fa4-fa46-4e77-c640-32e1a3fec1cf"
      },
      "source": [
        "a=7\n",
        "b=3\n",
        "print(a-b)"
      ],
      "execution_count": null,
      "outputs": [
        {
          "output_type": "stream",
          "text": [
            "4\n"
          ],
          "name": "stdout"
        }
      ]
    },
    {
      "cell_type": "code",
      "metadata": {
        "id": "uxocPF18s60Y",
        "colab_type": "code",
        "colab": {
          "base_uri": "https://localhost:8080/",
          "height": 34
        },
        "outputId": "f5b95c1d-884b-43f7-caa4-0eb61fc427cd"
      },
      "source": [
        "a=10\n",
        "b=2\n",
        "print(a*b)"
      ],
      "execution_count": null,
      "outputs": [
        {
          "output_type": "stream",
          "text": [
            "20\n"
          ],
          "name": "stdout"
        }
      ]
    },
    {
      "cell_type": "code",
      "metadata": {
        "id": "BHS0J7W8t588",
        "colab_type": "code",
        "colab": {
          "base_uri": "https://localhost:8080/",
          "height": 34
        },
        "outputId": "02e5f8da-9061-4724-cacf-9facd188962e"
      },
      "source": [
        " \n",
        "a=15\n",
        "b=3\n",
        "print(a/b)"
      ],
      "execution_count": null,
      "outputs": [
        {
          "output_type": "stream",
          "text": [
            "5.0\n"
          ],
          "name": "stdout"
        }
      ]
    },
    {
      "cell_type": "code",
      "metadata": {
        "id": "R4eAY1UkuLoq",
        "colab_type": "code",
        "colab": {
          "base_uri": "https://localhost:8080/",
          "height": 34
        },
        "outputId": "d725fb13-3496-4de9-8d12-35091a88c0e6"
      },
      "source": [
        "a=21\n",
        "b=2\n",
        "print(a%b)"
      ],
      "execution_count": null,
      "outputs": [
        {
          "output_type": "stream",
          "text": [
            "1\n"
          ],
          "name": "stdout"
        }
      ]
    },
    {
      "cell_type": "code",
      "metadata": {
        "id": "elSaZGMJueAP",
        "colab_type": "code",
        "colab": {
          "base_uri": "https://localhost:8080/",
          "height": 34
        },
        "outputId": "1d16d5ad-80dd-46b9-aff1-3b3de7e29b95"
      },
      "source": [
        "a=2\n",
        "b=7\n",
        "print(a**b)"
      ],
      "execution_count": null,
      "outputs": [
        {
          "output_type": "stream",
          "text": [
            "128\n"
          ],
          "name": "stdout"
        }
      ]
    },
    {
      "cell_type": "code",
      "metadata": {
        "id": "6_0_yp23vHHT",
        "colab_type": "code",
        "colab": {
          "base_uri": "https://localhost:8080/",
          "height": 34
        },
        "outputId": "c732f2a9-a8a1-4a08-c7c8-c400f17d3cea"
      },
      "source": [
        "a=15\n",
        "b=3\n",
        "print(a//b)"
      ],
      "execution_count": null,
      "outputs": [
        {
          "output_type": "stream",
          "text": [
            "5\n"
          ],
          "name": "stdout"
        }
      ]
    },
    {
      "cell_type": "markdown",
      "metadata": {
        "id": "AjeiYmNZvZeX",
        "colab_type": "text"
      },
      "source": [
        "2.write a python program to calculate simple interest"
      ]
    },
    {
      "cell_type": "code",
      "metadata": {
        "id": "XKOARg2hvtl5",
        "colab_type": "code",
        "colab": {
          "base_uri": "https://localhost:8080/",
          "height": 34
        },
        "outputId": "305540fd-cffc-45ad-8c22-f54035e5b011"
      },
      "source": [
        "P=200\n",
        "R=2\n",
        "T=2\n",
        "SI=(P*R*T) /100\n",
        "print(\"simple interest is\", SI)"
      ],
      "execution_count": null,
      "outputs": [
        {
          "output_type": "stream",
          "text": [
            "simple interest is 8.0\n"
          ],
          "name": "stdout"
        }
      ]
    },
    {
      "cell_type": "markdown",
      "metadata": {
        "id": "RHSpgp7kwnff",
        "colab_type": "text"
      },
      "source": [
        "3.write a python program to calculate area of a triangle."
      ]
    },
    {
      "cell_type": "code",
      "metadata": {
        "id": "nq7wtAK7w3Ym",
        "colab_type": "code",
        "colab": {
          "base_uri": "https://localhost:8080/",
          "height": 86
        },
        "outputId": "149e0c2c-1df6-40ae-a798-4ed6e8edd334"
      },
      "source": [
        "a=5\n",
        "b=6\n",
        "c=7\n",
        "a=float(input ('enter first side:')) \n",
        "b=float(input('enter second side:')) \n",
        "c=float(input('enter third side:')) \n",
        "s=(a+b+c)/2\n",
        "area=(s*(s-a)*(s-b)*(s-c))**0.5\n",
        "print('the area of triangle is %0.2f' %area)"
      ],
      "execution_count": null,
      "outputs": [
        {
          "output_type": "stream",
          "text": [
            "enter first side:5\n",
            "enter second side:6\n",
            "enter third side:7\n",
            "the area of triangle is 14.70\n"
          ],
          "name": "stdout"
        }
      ]
    },
    {
      "cell_type": "markdown",
      "metadata": {
        "id": "qet3REUm62io",
        "colab_type": "text"
      },
      "source": [
        "4.write a python program to calculate area of rectangle."
      ]
    },
    {
      "cell_type": "code",
      "metadata": {
        "id": "-C90dubLuqTf",
        "colab_type": "code",
        "colab": {
          "base_uri": "https://localhost:8080/",
          "height": 103
        },
        "outputId": "671df8c4-b60d-4c6c-83b3-ee328d98f921"
      },
      "source": [
        "Width=float(input('enter the width of rectangle:'))\n",
        "Height=float(input('enter the height of rectangle:')) \n",
        "area=Width*Height\n",
        "perimeter=2*(Width+Height) \n",
        "print(\"\\n area of a rectangle is:%.2f\"%area) \n",
        "print(\"perimeter of a rectangle is:%.2f\"%perimeter)"
      ],
      "execution_count": null,
      "outputs": [
        {
          "output_type": "stream",
          "text": [
            "enter the width of rectangle:11\n",
            "enter the height of rectangle:12\n",
            "\n",
            " area of a rectangle is:132.00\n",
            "perimeter of a rectangle is:46.00\n"
          ],
          "name": "stdout"
        }
      ]
    },
    {
      "cell_type": "markdown",
      "metadata": {
        "id": "3VjxyvxR-27n",
        "colab_type": "text"
      },
      "source": [
        " 5.write a python program to calculate area of circle."
      ]
    },
    {
      "cell_type": "code",
      "metadata": {
        "id": "gYsSIe6E_e7C",
        "colab_type": "code",
        "colab": {
          "base_uri": "https://localhost:8080/",
          "height": 51
        },
        "outputId": "119f2629-895d-460f-c5e0-daeedd4e2e23"
      },
      "source": [
        "PI=3.14\n",
        "r=float(input ('Enter the radius of circle:')) \n",
        "area=PI * r * r\n",
        "print(\"Area of the circle is%.2f\" %area)"
      ],
      "execution_count": null,
      "outputs": [
        {
          "output_type": "stream",
          "text": [
            "Enter the radius of circle:5\n",
            "Area of the circle is78.50\n"
          ],
          "name": "stdout"
        }
      ]
    },
    {
      "cell_type": "markdown",
      "metadata": {
        "id": "AwRUppcnA5Vz",
        "colab_type": "text"
      },
      "source": [
        " 6.write python program to temperature in Celsius to Fahrenheit."
      ]
    },
    {
      "cell_type": "code",
      "metadata": {
        "id": "U6iTNqOWCJp2",
        "colab_type": "code",
        "colab": {
          "base_uri": "https://localhost:8080/",
          "height": 71
        },
        "outputId": "a1c0823c-6d46-4e06-c1a9-89886a27cc6e"
      },
      "source": [
        "celsius=float(input('Enter temperature in Celsius:'))\n",
        "fahrenheit=(celsius * 1.8)+32\n",
        "print('%0.1f celsius is equal to %0.1f degree Fahrenheit'%(celsius,fahrenheit))"
      ],
      "execution_count": null,
      "outputs": [
        {
          "output_type": "stream",
          "text": [
            "Enter temperature in Celsius:24\n",
            "24.0 celsius is equal to 75.2 degree Fahrenheit\n"
          ],
          "name": "stdout"
        }
      ]
    },
    {
      "cell_type": "markdown",
      "metadata": {
        "id": "KlB9CV12FUL5",
        "colab_type": "text"
      },
      "source": [
        " 7.write a python program to calculate perimeter of a square."
      ]
    },
    {
      "cell_type": "code",
      "metadata": {
        "id": "G02Vk2AGFwWa",
        "colab_type": "code",
        "colab": {
          "base_uri": "https://localhost:8080/",
          "height": 51
        },
        "outputId": "9a54066d-6475-4c32-c25b-e85f72848893"
      },
      "source": [
        "s=int(input(\"side:\"))\n",
        "perimeter=4*s\n",
        "print(\"perimeter of rectangle:\", perimeter)"
      ],
      "execution_count": null,
      "outputs": [
        {
          "output_type": "stream",
          "text": [
            "side:5\n",
            "perimeter of rectangle: 20\n"
          ],
          "name": "stdout"
        }
      ]
    },
    {
      "cell_type": "markdown",
      "metadata": {
        "id": "kRE4sgc4Ikno",
        "colab_type": "text"
      },
      "source": [
        "8.write a python program to calculate circumference of a circle."
      ]
    },
    {
      "cell_type": "code",
      "metadata": {
        "id": "yrrVhyTQJJWJ",
        "colab_type": "code",
        "colab": {
          "base_uri": "https://localhost:8080/",
          "height": 71
        },
        "outputId": "60c6c586-73d8-49ae-e012-8d769ad4de8b"
      },
      "source": [
        "import math\n",
        "radius=float(input(\"Enter the radius of circle:\")) \n",
        "circumference=2 * math.pi * radius\n",
        "print (\"circumference of the circle is:%.2f\"% circumference)"
      ],
      "execution_count": null,
      "outputs": [
        {
          "output_type": "stream",
          "text": [
            "Enter the radius of circle:12\n",
            "circumference of the circle is:75.40\n"
          ],
          "name": "stdout"
        }
      ]
    },
    {
      "cell_type": "markdown",
      "metadata": {
        "id": "MQMWh6N_KeQe",
        "colab_type": "text"
      },
      "source": [
        "9.write a python program to swap two numbers."
      ]
    },
    {
      "cell_type": "code",
      "metadata": {
        "id": "X9l4ma4-Ktv1",
        "colab_type": "code",
        "colab": {
          "base_uri": "https://localhost:8080/",
          "height": 121
        },
        "outputId": "712d234b-06b5-4c8a-a4eb-2386b87a9b97"
      },
      "source": [
        "num1=input('enter first number:') \n",
        "num2=input('enter second number:') \n",
        "print(\"value of num1 before swapping:\", num1) \n",
        "print(\"value of num2 before swapping:\", num2)\n",
        "temp=num1\n",
        "num1=num2\n",
        "num2=temp\n",
        "print(\"value of num1 after swapping:\", num1) \n",
        "print(\"value of num2 after swapping:\", num2)"
      ],
      "execution_count": null,
      "outputs": [
        {
          "output_type": "stream",
          "text": [
            "enter first number:12\n",
            "enter second number:16\n",
            "value of num1 before swapping: 12\n",
            "value of num2 before swapping: 16\n",
            "value of num1 after swapping: 16\n",
            "value of num2 after swapping: 12\n"
          ],
          "name": "stdout"
        }
      ]
    }
  ]
}